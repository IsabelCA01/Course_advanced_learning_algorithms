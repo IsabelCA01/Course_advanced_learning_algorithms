{
 "cells": [
  {
   "cell_type": "markdown",
   "metadata": {},
   "source": [
    "# Steps of logistic regression of previos course"
   ]
  },
  {
   "cell_type": "markdown",
   "metadata": {},
   "source": [
    "1. specify how to compute output given input x and parameters w,b (define model)\n",
    "\n",
    "2. Specify a loos function and a cost function\n",
    "\n",
    "3. Train data to minimize $J(\\vec{w},b)$"
   ]
  },
  {
   "cell_type": "markdown",
   "metadata": {},
   "source": [
    "# Same steps for neural network"
   ]
  },
  {
   "cell_type": "markdown",
   "metadata": {},
   "source": [
    "1. specify how to compute output given input x and parameters w,b (define model).\n",
    "\n",
    "- Arquiteture of the model. Units, activation, etc. \n",
    "\n",
    "model = Sequential ([\n",
    "\n",
    "    Dense(...)\n",
    "\n",
    "    Dense(...) \n",
    "     \n",
    "    Dense(...)\n",
    "\n",
    "])"
   ]
  },
  {
   "cell_type": "markdown",
   "metadata": {},
   "source": [
    "2. Specify a loos function and a cost function. And compile the model.\n",
    "\n",
    "model.compile(loss=BinaryCrossentropy())\n",
    "\n",
    "\n",
    "- Loss function: BinaryCrossentropy, CategoricalCrossentropy, SparseCategoricalCrossentropy, MeanSquaredError, KLDivergence, CosineSimilarity, Huber, LogCosh, Poisson, etc.\n",
    "\n",
    "- **Binary Crossentropy:** For binary classification problems that output a probability between 0 and 1. Also known as logistic loss. Compares prediction vs. target.\n",
    " \n",
    "- **Mean squared error:**: For regression problems that output a single continuous value. Compares prediction vs. target. For problems predictin numbers, not categories."
   ]
  },
  {
   "cell_type": "markdown",
   "metadata": {},
   "source": [
    "3. Train data to minimize $J(\\vec{w},b)$\n",
    "\n",
    "model.fit(x_train, y_train, epochs=100)\n",
    "\n",
    "- model.fit : implements a backpropagation algorithm to update the network parameters in order to minimize the loss."
   ]
  }
 ],
 "metadata": {
  "kernelspec": {
   "display_name": "courses",
   "language": "python",
   "name": "python3"
  },
  "language_info": {
   "name": "python",
   "version": "3.10.12"
  },
  "orig_nbformat": 4
 },
 "nbformat": 4,
 "nbformat_minor": 2
}
