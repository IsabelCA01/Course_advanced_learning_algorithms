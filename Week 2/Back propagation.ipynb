{
 "cells": [
  {
   "cell_type": "markdown",
   "metadata": {},
   "source": [
    "# Back Propagation"
   ]
  },
  {
   "cell_type": "markdown",
   "metadata": {},
   "source": [
    "# What is a derivative?"
   ]
  },
  {
   "cell_type": "markdown",
   "metadata": {},
   "source": [
    "A derivative is a measure of how a function changes as its input changes.\n",
    "\n",
    "if f(x) = x^2, then f'(x) = 2x\n",
    "\n",
    "\n",
    "If w $\\uparrow \\epsilon$ causes $J(w) \\uparrow  k x\\epsilon$\n",
    "\n",
    "then \n",
    "\n",
    "$\\frac{\\partial}{\\partial w} J(w) = k$"
   ]
  },
  {
   "cell_type": "markdown",
   "metadata": {},
   "source": [
    "**In gradient descent**\n",
    "\n",
    "If the derivative is small, then this update step will make a small update tu $w_j$.\n",
    "\n",
    "If the derivative is large, then this update step will make a large update tu $w_j$.\n",
    "\n"
   ]
  },
  {
   "cell_type": "markdown",
   "metadata": {},
   "source": [
    "## Using SymPy for derivaties"
   ]
  },
  {
   "cell_type": "code",
   "execution_count": 1,
   "metadata": {},
   "outputs": [],
   "source": [
    "import sympy "
   ]
  },
  {
   "cell_type": "code",
   "execution_count": 2,
   "metadata": {},
   "outputs": [
    {
     "data": {
      "text/latex": [
       "$\\displaystyle w^{2}$"
      ],
      "text/plain": [
       "w**2"
      ]
     },
     "execution_count": 2,
     "metadata": {},
     "output_type": "execute_result"
    }
   ],
   "source": [
    "J, w = sympy.symbols('J,w')\n",
    "\n",
    "J = w **2\n",
    "\n",
    "J"
   ]
  },
  {
   "cell_type": "code",
   "execution_count": 4,
   "metadata": {},
   "outputs": [
    {
     "data": {
      "text/latex": [
       "$\\displaystyle 2 w$"
      ],
      "text/plain": [
       "2*w"
      ]
     },
     "execution_count": 4,
     "metadata": {},
     "output_type": "execute_result"
    }
   ],
   "source": [
    "# Shows the derivative of J with respect to w\n",
    "\n",
    "dJ_dw = sympy.diff(J,w)\n",
    "\n",
    "dJ_dw"
   ]
  },
  {
   "cell_type": "code",
   "execution_count": 5,
   "metadata": {},
   "outputs": [
    {
     "data": {
      "text/latex": [
       "$\\displaystyle 4$"
      ],
      "text/plain": [
       "4"
      ]
     },
     "execution_count": 5,
     "metadata": {},
     "output_type": "execute_result"
    }
   ],
   "source": [
    "# Shows the derivative of J with respect to w, and then subsitutes w with 2\n",
    "\n",
    "dJ_dw.subs([(w,2)])"
   ]
  },
  {
   "cell_type": "markdown",
   "metadata": {},
   "source": [
    "### Notation "
   ]
  },
  {
   "cell_type": "markdown",
   "metadata": {},
   "source": [
    "If $J(w)$ is a function of one variable (w):\n",
    "\n",
    "$\\frac{d}{dw} J(w)$\n",
    "\n",
    "If $J(w_1, w_2, \\dots, w_n)$ is a function of more than one variable:\n",
    "\n",
    "$\\frac{\\partial}{\\partial w_1} J(w_1, w_2, \\dots, w_n)$"
   ]
  },
  {
   "cell_type": "markdown",
   "metadata": {},
   "source": [
    "# Computation Graph"
   ]
  },
  {
   "cell_type": "markdown",
   "metadata": {},
   "source": [
    "A computation graph is a way to visualize a sequence of operations. \n",
    "\n",
    "Each operation is a node in the graph.\n",
    "\n",
    "The nodes are connected by edges that show the flow of tensors.\n",
    "\n",
    "The edges usually flow left to right, with the inputs on the left and the outputs on the right.\n",
    "\n",
    "The nodes on the far left are the inputs to the graph, which we may simply call input nodes.\n",
    "\n",
    "The nodes on the far right are the outputs of the graph.   \n"
   ]
  },
  {
   "cell_type": "markdown",
   "metadata": {},
   "source": [
    "**Chain rule**\n",
    "\n",
    "- it is a way to compute the derivative of a composition of functions. \n",
    "\n",
    "- If $f(x) = g(h(x))$, then $f'(x) = g'(h(x))h'(x)$\n"
   ]
  }
 ],
 "metadata": {
  "kernelspec": {
   "display_name": "courses",
   "language": "python",
   "name": "python3"
  },
  "language_info": {
   "codemirror_mode": {
    "name": "ipython",
    "version": 3
   },
   "file_extension": ".py",
   "mimetype": "text/x-python",
   "name": "python",
   "nbconvert_exporter": "python",
   "pygments_lexer": "ipython3",
   "version": "3.10.12"
  },
  "orig_nbformat": 4
 },
 "nbformat": 4,
 "nbformat_minor": 2
}
