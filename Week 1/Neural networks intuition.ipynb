{
 "cells": [
  {
   "attachments": {},
   "cell_type": "markdown",
   "metadata": {},
   "source": [
    "# Advanced learning algorithms\n",
    "\n",
    "## Neural Networks intuition\n",
    "\n",
    "## Content\n",
    "\n",
    "- Neurons and the Brain\n",
    "\n",
    "- Demand Prediction\n",
    "\n",
    "- Example: Recognizing Images\n",
    "\n",
    "***"
   ]
  },
  {
   "attachments": {},
   "cell_type": "markdown",
   "metadata": {},
   "source": [
    "# Neurons and the brain"
   ]
  },
  {
   "attachments": {},
   "cell_type": "markdown",
   "metadata": {},
   "source": [
    "Neural Networks Also called *artificial neural networks*\n",
    "\n",
    "**Origins**: Algortithms that try to mimic the brain. In the 1980's and 1990's but fell out of favor. Resurgence from around 2005 - rebranding with the deep.learning.\n",
    "\n",
    "**What has it been used for?**:\n",
    "\n",
    "- speech \n",
    "\n",
    "- Computer vision (images)\n",
    "\n",
    "- text(NLP (natural language processing))\n",
    "\n",
    "But now is used in almost everything.\n",
    "\n",
    "<br>\n",
    "\n",
    "Think about the neurons of the brain: through one electrical impulse, the signal travels through many neurons activating them till the desirable output.\n",
    "\n",
    "- In computer, the neuron recives some inputs (numbers), that neuron does some kind of operation in the input to produce an output. Then passes that output as the input of another neuron.\n",
    "\n",
    "<br>\n",
    "\n",
    "**simplified mathematical model of a neuron**\n",
    "\n",
    "<br>\n",
    "- It is better to look away from the biological way, since we don't really understand how the brain works. For deeplearning, it is better to just focus on the engineering side. And focus on how to build algorithms that are more effective. \n"
   ]
  },
  {
   "attachments": {},
   "cell_type": "markdown",
   "metadata": {},
   "source": [
    "*** \n",
    "\n",
    "# Demand Prediction"
   ]
  },
  {
   "attachments": {},
   "cell_type": "markdown",
   "metadata": {},
   "source": [
    "\n",
    "- **Activation**: how much a neuron is sending a high output to other neurons downstream from it.\n",
    "\n",
    "- another way of thinking about a neuron is a tiny computer whose only job is to input one number or a few numbers, and the to output one number or maybe a fe other numbers. \n",
    "\n",
    "- Oversimplified model of the human brain.\n",
    "\n",
    "Neural network: putting a lot of this neurons together.\n",
    "\n",
    "- It is just as a logistic regression that has the ability to learn new and better features that make easier to make accurate predictions.\n",
    "\n",
    "<br>\n",
    "\n",
    "**Example**\n",
    "\n",
    "In the example, they use a lot of features and factors to determine if a T-shirt is going (or not) to be a best seller. Some of the features are: price, shipping cost, marketing and material. Some of the factors (also called **activations**)are: affordability, awareness, perceived quality. \n",
    "\n",
    "It starts creating a neuron to predict if the T-shirt is highly affordable (which is determined by the price and shipping cost). Another neuron for the awareness (determined by the marketing), and a last neuron for the perceived quality (determined by the price and material). These three neurons are a **hidden layer**.\n",
    "\n",
    "Then the outputs of these three neurons are the input of a last neuron. This neuron inputs those three numbers and outputs the probability of the T-shirt being a top seller. This single neuron is also a **layer**. The **output layer**.\n",
    "\n",
    "Computing: these neural network inputs 4 numbers (**Input layer**) go through the first layer. The first layer produces 3 numbers (**activation values**) and then the output layer uses those three numbers to compute 1 number.\n",
    " \n",
    "<br>\n",
    "\n",
    "- **Layer**: is a grouping of neurons which takes as inputs the same or similar features and that in turn outputs a few numbers together. Can have multiple neurons or just a single one.\n",
    "\n",
    "- **Hidden layer**: layer that is inside the neural network. You can only see the input values you put in the network, and the final output it gives you. You don't see the values of the outputs of these layers. Ther may be multiple hidden layers (also called *multilayer perceptron*).\n",
    "\n",
    "<br>\n",
    "\n",
    "In reality:\n",
    "\n",
    "For a large neural network it would be very difficult to manually decide which neurons should take which features as inputs. The way it is implemented in real life, each neuron will have access to every feature to every value from the previous layer. It might learn to \"ignore\" the features that it doesn't need, and just focus on the subset of features that are relevant.\n",
    "\n",
    "<br>\n",
    "\n",
    "**Neural network Architechture**\n",
    "\n",
    "- how many hidden layers?\n",
    "- How many neurons in each layer?"
   ]
  },
  {
   "attachments": {},
   "cell_type": "markdown",
   "metadata": {},
   "source": [
    "***\n",
    "\n",
    "# Example: Recognizing Images\n"
   ]
  },
  {
   "attachments": {},
   "cell_type": "markdown",
   "metadata": {},
   "source": [
    "## Face recognition\n",
    "\n",
    "- Take as input an image, and as output it should give the identity of the person of the picture. \n",
    "\n",
    "- The image is from 1000x1000, which means it is represented as a 1000 x 1000 matrix filled with intensity values of each pixel (0-255). You unroll this matrix into a vector, and you and up with a vector of a million values. \n",
    "\n",
    "- The first hidden layer tries to identify short parts, edges or lines in the picture. The second one might learn how to group these identified parts and group them in segments, in orden to look for parts of the face (nose, eye, etc.). The last hidden layer might try to put these parts together to then try to put together a face that matches the identity of a person. \n",
    "\n",
    "- The output layer shows the probability of being a specific person. \n",
    "\n",
    "\n",
    "## Other applications\n",
    "\n",
    "- cars\n",
    "\n",
    "- medical images \n",
    "\n",
    "same principle, different datasets.\n",
    "\n"
   ]
  }
 ],
 "metadata": {
  "language_info": {
   "name": "python"
  },
  "orig_nbformat": 4
 },
 "nbformat": 4,
 "nbformat_minor": 2
}
