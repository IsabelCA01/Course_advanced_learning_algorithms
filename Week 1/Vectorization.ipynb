{
 "cells": [
  {
   "attachments": {},
   "cell_type": "markdown",
   "metadata": {},
   "source": [
    "# Vectorization in neural networks"
   ]
  },
  {
   "attachments": {},
   "cell_type": "markdown",
   "metadata": {},
   "source": [
    "## How neural networks are implemented efficiently"
   ]
  },
  {
   "cell_type": "code",
   "execution_count": 1,
   "metadata": {},
   "outputs": [],
   "source": [
    "import numpy as np "
   ]
  },
  {
   "attachments": {},
   "cell_type": "markdown",
   "metadata": {},
   "source": [
    "Neural networks can be vectorized.\n",
    "\n",
    "This is what we had before: **For loops**"
   ]
  },
  {
   "cell_type": "code",
   "execution_count": null,
   "metadata": {},
   "outputs": [],
   "source": [
    "x= np.array([200 , 17])\n",
    "W = np.array([[0.2, 0.4, -0.5], [0.1, -0.3, 0.2]])\n",
    "b = np.array([0.1, 0.2, 0.3])\n",
    "\n",
    "def dense (a_in, W,b):\n",
    "    units = W.shape[1]\n",
    "    a_out = np.zeros(units)\n",
    "    for i in range(units):\n",
    "        w = W[:,i] # how you pull out the ith column of a matrix\n",
    "        z = np.dot(w, a_in) + b[i]\n",
    "        a_out[i] = 1/(1+np.exp(-z)) #g(z) = sigmoid function - normally defined outside of dense()\n",
    "    return a_out\n"
   ]
  },
  {
   "attachments": {},
   "cell_type": "markdown",
   "metadata": {},
   "source": [
    "Now we will use vectorization to make the code run faster."
   ]
  },
  {
   "cell_type": "code",
   "execution_count": null,
   "metadata": {},
   "outputs": [],
   "source": [
    "X = np.array([[200, 17]]) #This becomes a 2D array\n",
    "W = W #Stays the same\n",
    "B= np.array([[0.1, 0.2, 0.3]]) #This becomes a 2D array\n",
    "\n",
    "def dense (A_in, W,B,g):\n",
    "    Z= np.matmul(A_in, W) + B #Numpy way to do matrix multiplication\n",
    "    A_out = g(Z) # Matriz multiplication\n",
    "    return A_out"
   ]
  },
  {
   "attachments": {},
   "cell_type": "markdown",
   "metadata": {},
   "source": [
    "# Matrix multiplication"
   ]
  },
  {
   "attachments": {},
   "cell_type": "markdown",
   "metadata": {},
   "source": [
    "**Dot product**\n",
    "\n",
    "$\\begin{bmatrix} a  \\end{bmatrix} \\cdot \\begin{bmatrix}w \\end{bmatrix}  $ \n",
    "\n",
    "$z = \\vec{a} \\cdot \\vec{w}$\n",
    "\n",
    "**transpose**\n",
    "\n",
    "$ \\vec{a} = \\begin{bmatrix} 1 \\\\ 2 \\end{bmatrix} $\n",
    "\n",
    "$ \\vec{a}^T = \\begin{bmatrix} 1 & 2 \\end{bmatrix} $\n",
    "\n",
    "**Vector Vector multiplication**\n",
    "\n",
    "$\\begin{bmatrix} \\leftarrow & \\vec{a}^T \\rightarrow \\end{bmatrix} \\begin{bmatrix} \\uparrow \\\\ \\vec{w}^T \\\\ \\downarrow \\end{bmatrix}$\n",
    "\n",
    "$z = \\vec{a}^T \\vec{w}$"
   ]
  }
 ],
 "metadata": {
  "kernelspec": {
   "display_name": "Course_advanced_learning_algorithms-kj-dCmYN",
   "language": "python",
   "name": "python3"
  },
  "language_info": {
   "codemirror_mode": {
    "name": "ipython",
    "version": 3
   },
   "file_extension": ".py",
   "mimetype": "text/x-python",
   "name": "python",
   "nbconvert_exporter": "python",
   "pygments_lexer": "ipython3",
   "version": "3.10.12"
  },
  "orig_nbformat": 4
 },
 "nbformat": 4,
 "nbformat_minor": 2
}
