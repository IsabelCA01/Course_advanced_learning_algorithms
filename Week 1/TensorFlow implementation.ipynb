{
 "cells": [
  {
   "attachments": {},
   "cell_type": "markdown",
   "metadata": {},
   "source": [
    "# TensorFlow"
   ]
  },
  {
   "attachments": {},
   "cell_type": "markdown",
   "metadata": {},
   "source": [
    "One of the leading frameworks to implementing deep learning algorithms. \n",
    "\n",
    "The other one is Pytorch. "
   ]
  },
  {
   "attachments": {},
   "cell_type": "markdown",
   "metadata": {},
   "source": [
    "# Inference"
   ]
  },
  {
   "attachments": {},
   "cell_type": "markdown",
   "metadata": {},
   "source": [
    "## Coffee Beans"
   ]
  },
  {
   "attachments": {},
   "cell_type": "markdown",
   "metadata": {},
   "source": [
    "Example: Can a learning algorithm help optimize the quality of the coffe beans from a roasting process?\n",
    "\n",
    "Parameters: Duration of the roasting process and temperature. \n",
    "\n",
    "Given an imput of duration and temperature, the algorithm will output the probability of this bein good cooffe beans or not. "
   ]
  },
  {
   "cell_type": "code",
   "execution_count": 2,
   "metadata": {},
   "outputs": [],
   "source": [
    "import numpy as np\n",
    "import tensorflow as tf\n",
    "import matplotlib.pyplot as plt\n",
    "\n",
    "\n",
    "from tensorflow.keras.layers import Dense, Input\n",
    "from tensorflow.keras import layers, models\n",
    "from tensorflow.keras.losses import MeanSquaredError, BinaryCrossentropy\n",
    "from tensorflow.keras.activations import sigmoid"
   ]
  },
  {
   "cell_type": "code",
   "execution_count": 16,
   "metadata": {},
   "outputs": [
    {
     "name": "stdout",
     "output_type": "stream",
     "text": [
      "tf.Tensor([[1. 1. 1.]], shape=(1, 3), dtype=float32)\n",
      "tf.Tensor([[0.35868436]], shape=(1, 1), dtype=float32)\n",
      "0\n"
     ]
    }
   ],
   "source": [
    "## Forward propagation. Explicit implementation\n",
    "\n",
    "x=np.array([[200.0, 17.0]])\n",
    "\n",
    "layer_1= Dense(units=3, activation=\"sigmoid\")\n",
    "a1=layer_1(x)\n",
    "print(a1)\n",
    "\n",
    "layer_2= Dense(units=1, activation=\"sigmoid\")\n",
    "a2=layer_2(a1)\n",
    "\n",
    "print(a2)\n",
    "\n",
    "if a2 >= 0.5:\n",
    "    yhat=1\n",
    "else:\n",
    "    yhat=0\n",
    "\n",
    "print(yhat)\n"
   ]
  },
  {
   "attachments": {},
   "cell_type": "markdown",
   "metadata": {},
   "source": [
    "## Model for digit classification"
   ]
  },
  {
   "cell_type": "code",
   "execution_count": null,
   "metadata": {},
   "outputs": [],
   "source": [
    "model = models.Sequential([\n",
    "    layers.Dense(units=25, activation=\"sigmoid\"),\n",
    "    layers.Dense(units=15, activatin=\"sigmoid\"),\n",
    "    layers.Dense(units=1, activation=\"sigmoid\")\n",
    "])"
   ]
  },
  {
   "attachments": {},
   "cell_type": "markdown",
   "metadata": {},
   "source": [
    "# Data in Tensorflow"
   ]
  },
  {
   "attachments": {},
   "cell_type": "markdown",
   "metadata": {},
   "source": [
    "How to handle data in numpy and TensorFlow.\n",
    "\n",
    "row vector - vector that just has one row\n",
    "\n",
    "column vector - vector that just has one column\n",
    "\n",
    "Double brackets - matrix. It represents a 2D array.\n",
    "\n",
    "With just one bracket - vector. It represents a 1D vector. Just a list of numbers, without rows or columns.\n",
    "\n",
    "\n",
    "<br>\n",
    "\n",
    "**In Tensorflow**\n",
    "\n",
    "With TensorFlow, the convention in to use matrices to represent the data. Because it lets Tensorflow be a bit more computationally efficient internally.\n",
    "\n",
    "A Tensor is a data type that was created in order to store ans carry out computations on matrices efficiently.\n",
    "\n",
    "A tensor is more general than a matrix, but in the course will be treated as the same.\n",
    "\n",
    "\n"
   ]
  },
  {
   "attachments": {},
   "cell_type": "markdown",
   "metadata": {},
   "source": [
    "# Building a neural network"
   ]
  },
  {
   "cell_type": "code",
   "execution_count": 19,
   "metadata": {},
   "outputs": [
    {
     "name": "stdout",
     "output_type": "stream",
     "text": [
      "Epoch 1/10\n",
      "1/1 [==============================] - 1s 685ms/step - loss: 0.8601 - accuracy: 0.5000\n",
      "Epoch 2/10\n",
      "1/1 [==============================] - 0s 6ms/step - loss: 0.8593 - accuracy: 0.5000\n",
      "Epoch 3/10\n",
      "1/1 [==============================] - 0s 8ms/step - loss: 0.8584 - accuracy: 0.5000\n",
      "Epoch 4/10\n",
      "1/1 [==============================] - 0s 9ms/step - loss: 0.8576 - accuracy: 0.5000\n",
      "Epoch 5/10\n",
      "1/1 [==============================] - 0s 7ms/step - loss: 0.8568 - accuracy: 0.5000\n",
      "Epoch 6/10\n",
      "1/1 [==============================] - 0s 8ms/step - loss: 0.8559 - accuracy: 0.5000\n",
      "Epoch 7/10\n",
      "1/1 [==============================] - 0s 9ms/step - loss: 0.8550 - accuracy: 0.5000\n",
      "Epoch 8/10\n",
      "1/1 [==============================] - 0s 9ms/step - loss: 0.8541 - accuracy: 0.5000\n",
      "Epoch 9/10\n",
      "1/1 [==============================] - 0s 9ms/step - loss: 0.8532 - accuracy: 0.5000\n",
      "Epoch 10/10\n",
      "1/1 [==============================] - 0s 7ms/step - loss: 0.8523 - accuracy: 0.5000\n"
     ]
    },
    {
     "data": {
      "text/plain": [
       "<keras.callbacks.History at 0x7ff8987295d0>"
      ]
     },
     "execution_count": 19,
     "metadata": {},
     "output_type": "execute_result"
    }
   ],
   "source": [
    "ĺayer_1 = Dense(units=3, activation=\"sigmoid\")\n",
    "layer_2 = Dense(units=1, activation=\"sigmoid\")\n",
    "model = models.Sequential([ĺayer_1, layer_2]) #sequentially string togheter the layers\n",
    "\n",
    "x = np.array([[200.0, 17.0], \n",
    "              [120.0, 5.0],\n",
    "              [425.0, 20.0],\n",
    "              [212.0, 18.0]]) #2D array 4x2\n",
    "\n",
    "y = np.array([1,0,0,1]) #1D array\n",
    "\n",
    "model.compile(loss=BinaryCrossentropy(), optimizer=\"adam\", metrics=[\"accuracy\"]) #loss function, optimizer, metrics\n",
    "\n",
    "model.fit(x,y, epochs=10, batch_size=4) #training\n",
    "\n",
    "#model.predict(x_new) #prediction"
   ]
  },
  {
   "cell_type": "code",
   "execution_count": null,
   "metadata": {},
   "outputs": [],
   "source": [
    "##or more used:\n",
    "\n",
    "model = models.Sequential([\n",
    "    layers.Dense(units=3, activation=\"sigmoid\"),\n",
    "    layers.Dense(units=1, activation=\"sigmoid\")\n",
    "])"
   ]
  }
 ],
 "metadata": {
  "kernelspec": {
   "display_name": "Course_advanced_learning_algorithms-kj-dCmYN",
   "language": "python",
   "name": "python3"
  },
  "language_info": {
   "codemirror_mode": {
    "name": "ipython",
    "version": 3
   },
   "file_extension": ".py",
   "mimetype": "text/x-python",
   "name": "python",
   "nbconvert_exporter": "python",
   "pygments_lexer": "ipython3",
   "version": "3.10.12"
  },
  "orig_nbformat": 4
 },
 "nbformat": 4,
 "nbformat_minor": 2
}
