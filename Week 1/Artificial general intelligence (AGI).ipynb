{
 "cells": [
  {
   "attachments": {},
   "cell_type": "markdown",
   "metadata": {},
   "source": [
    "## Is there a path to Artificial general intelligence (AGI)?"
   ]
  },
  {
   "attachments": {},
   "cell_type": "markdown",
   "metadata": {},
   "source": [
    "AI includes:\n",
    "\n",
    "ANI - Artificial narrow intelligence. An IA system that does one narrow thing. Example: Smart speakers., self-driving cars, web search, AI in farming and factories, etc.\n",
    "\n",
    "AGI - Artificial general intelligence. An AI system that can do all the things a human can do. Example: C-3PO, etc. We don't have AGI yet.\n",
    "\n",
    "ASI - Artificial super intelligence. An AI system that can do all the things a human can do, but better. Example: Skynet, etc. We don't have ASI yet.\n",
    "\n",
    "## the one-learning algorithm hypotesis.\n",
    "\n",
    "We can re train an specific part of the brain to do a different task. Example: Blind people can learn to read with their fingers. The human brain is impressibly adaptable. \n",
    "\n"
   ]
  }
 ],
 "metadata": {
  "language_info": {
   "name": "python"
  },
  "orig_nbformat": 4
 },
 "nbformat": 4,
 "nbformat_minor": 2
}
