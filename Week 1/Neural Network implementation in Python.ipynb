{
 "cells": [
  {
   "attachments": {},
   "cell_type": "markdown",
   "metadata": {},
   "source": [
    "# Implementation just with python and numpy"
   ]
  },
  {
   "cell_type": "code",
   "execution_count": 1,
   "metadata": {},
   "outputs": [],
   "source": [
    "import numpy as np"
   ]
  },
  {
   "attachments": {},
   "cell_type": "markdown",
   "metadata": {},
   "source": [
    "Example of how to implement forward propagation in python and numpy"
   ]
  },
  {
   "cell_type": "code",
   "execution_count": null,
   "metadata": {},
   "outputs": [],
   "source": [
    "x = np.array([200, 17])\n",
    "\n",
    "w1_1 = np.array([1,2])\n",
    "b1_1 = np.array ([-1])\n",
    "z1_1 = np.dot(w1_1, x) + b1_1\n",
    "a1_1 = 1/(1+np.exp(-z1_1)) # sigmoid function\n",
    "\n",
    "w1_2 = np.array([-3,4])\n",
    "b1_2 = np.array([1])\n",
    "z1_2 = np.dot(w1_2, x) + b1_2\n",
    "a1_2 = 1/(1+np.exp(-z1_2)) # sigmoid function\n",
    "\n",
    "w1_3 = np.array([5,-6])\n",
    "b1_3 = np.array([2])\n",
    "z1_3 = np.dot(w1_3, x) + b1_3\n",
    "a1_3 = 1/(1+np.exp(-z1_3)) # sigmoid function\n",
    "\n",
    "a1 = np.array([a1_1, a1_2, a1_3])\n",
    "\n",
    "#second layer\n",
    "\n",
    "w2_1 = np.array([-7,8,9])\n",
    "b2_1 = np.array([3])\n",
    "z2_1 = np.dot(w2_1, a1) + b2_1\n",
    "a2_1 = 1/(1+np.exp(-z2_1)) # sigmoid function\n"
   ]
  },
  {
   "attachments": {},
   "cell_type": "markdown",
   "metadata": {},
   "source": [
    "## General implementation of forward propagation"
   ]
  },
  {
   "cell_type": "code",
   "execution_count": null,
   "metadata": {},
   "outputs": [],
   "source": [
    "def dense (a_in, W,b):\n",
    "    units = W.shape[1]\n",
    "    a_out = np.zeros(units)\n",
    "    for i in range(units):\n",
    "        w = W[:,i] # how you pull out the ith column of a matrix\n",
    "        z = np.dot(w, a_in) + b[i]\n",
    "        a_out[i] = 1/(1+np.exp(-z)) #g(z) = sigmoid function - normally defined outside of dense()\n",
    "    return a_out\n",
    "\n",
    "def sequential(x):\n",
    "    a1 = dense(x, W1, b1)\n",
    "    a2 = dense(a1, W2, b2)\n",
    "    a3 = dense(a2, W3, b3)\n",
    "    a4 = dense(a3, W4, b4)\n",
    "    f_x = a4\n",
    "    return f_x\n",
    "\n"
   ]
  },
  {
   "attachments": {},
   "cell_type": "markdown",
   "metadata": {},
   "source": [
    "**Notation**\n",
    "\n",
    "- Use upper case letters to denote matrices (e.g. $W$)\n",
    "\n",
    "- Lower case letters for vectors (e.g. $b$)"
   ]
  }
 ],
 "metadata": {
  "kernelspec": {
   "display_name": "Course_advanced_learning_algorithms-kj-dCmYN",
   "language": "python",
   "name": "python3"
  },
  "language_info": {
   "codemirror_mode": {
    "name": "ipython",
    "version": 3
   },
   "file_extension": ".py",
   "mimetype": "text/x-python",
   "name": "python",
   "nbconvert_exporter": "python",
   "pygments_lexer": "ipython3",
   "version": "3.10.6"
  },
  "orig_nbformat": 4
 },
 "nbformat": 4,
 "nbformat_minor": 2
}
