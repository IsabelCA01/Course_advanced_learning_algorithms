{
 "cells": [
  {
   "cell_type": "markdown",
   "metadata": {},
   "source": [
    "# Machine learning development process"
   ]
  },
  {
   "cell_type": "markdown",
   "metadata": {},
   "source": [
    "# Iterative loop of ML development"
   ]
  },
  {
   "cell_type": "markdown",
   "metadata": {},
   "source": [
    "**What is the process of developing a ML model?**\n",
    "\n",
    "1. Choose architecture (model,data,etc.)\n",
    "\n",
    "2. Train model\n",
    "\n",
    "3. Diagnostics (bias, variance and error analysis)\n",
    "\n",
    "- and then go back to step 1 as many times as needed.\n"
   ]
  },
  {
   "cell_type": "markdown",
   "metadata": {},
   "source": [
    "# Error analysis"
   ]
  },
  {
   "cell_type": "markdown",
   "metadata": {},
   "source": [
    "**What is Error analysis?**\n",
    "\n",
    "- Error analysis is the process of manually examining mistakes that your algorithm is making.\n",
    "\n",
    "**Example**\n",
    "\n",
    "$m_{cv} = 500$ examples in cross validation set.\n",
    "\n",
    "Algorithm misclassifies 100 examples.\n",
    "\n",
    "**Manually** examine the 100 errors and categorize them based on common traits.\n",
    "\n",
    "Pharma:21\n",
    "\n",
    "Deliberate misspellings (w4tches, med1cine):3\n",
    "\n",
    "Unusual email routing: 7\n",
    "\n",
    "Steal passwords:18\n",
    "\n",
    "Spam message in embedded image: 5\n",
    "\n",
    "- This allow to identify the most common errors and focus on them. And then decide if you should collect more data, add more features or how to fix it. "
   ]
  },
  {
   "cell_type": "markdown",
   "metadata": {},
   "source": [
    "# Adding data"
   ]
  },
  {
   "cell_type": "markdown",
   "metadata": {},
   "source": [
    "# Transfer learning using data from a different task"
   ]
  },
  {
   "cell_type": "markdown",
   "metadata": {},
   "source": [
    "# Full cicle of a machine learning project"
   ]
  },
  {
   "cell_type": "markdown",
   "metadata": {},
   "source": [
    "# Fairness, bias and ethics"
   ]
  }
 ],
 "metadata": {
  "language_info": {
   "name": "python"
  },
  "orig_nbformat": 4
 },
 "nbformat": 4,
 "nbformat_minor": 2
}
