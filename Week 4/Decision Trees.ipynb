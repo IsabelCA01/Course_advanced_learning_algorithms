{
 "cells": [
  {
   "cell_type": "markdown",
   "metadata": {},
   "source": [
    "# Desicion Trees"
   ]
  },
  {
   "cell_type": "markdown",
   "metadata": {},
   "source": [
    "# Model"
   ]
  },
  {
   "cell_type": "markdown",
   "metadata": {},
   "source": [
    "**What is a decision tree**\n",
    "\n",
    "- A decision tree is a flowchart-like structure in which each internal node represents a \"test\" on an attribute (e.g. whether a coin flip comes up heads or tails), each branch represents the outcome of the test, and each leaf node represents a class label (decision taken after computing all attributes). The paths from root to leaf represents classification rules.\n"
   ]
  },
  {
   "cell_type": "markdown",
   "metadata": {},
   "source": [
    "# Learning Process"
   ]
  },
  {
   "cell_type": "markdown",
   "metadata": {},
   "source": [
    "**Steps**\n",
    "\n",
    "- The learning algorithm starts at the tree root and splits the data on the feature that results in the largest information gain (IG) (reduction in uncertainty towards the final decision).\n",
    "\n",
    "- In an iterative process, the algorithm continues to split the data at each node it reaches until the leaves are pure. This means that the samples at each leaf node all belong to the same class.\n",
    "\n",
    "- In practice, this can result in a very deep tree with many nodes, which can easily lead to overfitting. Thus, we typically want to prune the tree by setting a limit for the maximal depth of the tree."
   ]
  },
  {
   "cell_type": "markdown",
   "metadata": {},
   "source": [
    "**Decisions**\n",
    "\n",
    "1. How to choose what feature to split on at each node?\n",
    "\n",
    "- Maximize purity (or minimize impurity).\n",
    "\n",
    "2. When do you stop splitting?\n",
    "\n",
    "- when a node is 100% pure (all one class).\n",
    "\n",
    "- when splitting a node will result in the tree exceeding a maximum depth.By keeping the tree small, it makes it less prone to overfitting.\n",
    "\n",
    "- when improvements in purity score are below a threshold.\n",
    "\n",
    "- when number of examples in a node is below a threshold.\n",
    "\n",
    "\n"
   ]
  }
 ],
 "metadata": {
  "language_info": {
   "name": "python"
  },
  "orig_nbformat": 4
 },
 "nbformat": 4,
 "nbformat_minor": 2
}
